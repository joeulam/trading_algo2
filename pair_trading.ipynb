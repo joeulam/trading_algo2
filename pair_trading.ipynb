{
  "cells": [
    {
      "cell_type": "markdown",
      "metadata": {
        "id": "view-in-github",
        "colab_type": "text"
      },
      "source": [
        "<a href=\"https://colab.research.google.com/github/joeulam/trading_algo2/blob/main/pair_trading.ipynb\" target=\"_parent\"><img src=\"https://colab.research.google.com/assets/colab-badge.svg\" alt=\"Open In Colab\"/></a>"
      ]
    },
    {
      "cell_type": "code",
      "execution_count": 1,
      "metadata": {
        "id": "EzlU7b_ow212",
        "colab": {
          "base_uri": "https://localhost:8080/"
        },
        "outputId": "869edb56-d497-4c5a-cb01-812290e38c90"
      },
      "outputs": [
        {
          "output_type": "stream",
          "name": "stdout",
          "text": [
            "Collecting backtrader\n",
            "  Downloading backtrader-1.9.78.123-py2.py3-none-any.whl.metadata (6.8 kB)\n",
            "Downloading backtrader-1.9.78.123-py2.py3-none-any.whl (419 kB)\n",
            "\u001b[2K   \u001b[90m━━━━━━━━━━━━━━━━━━━━━━━━━━━━━━━━━━━━━━━━\u001b[0m \u001b[32m419.5/419.5 kB\u001b[0m \u001b[31m6.6 MB/s\u001b[0m eta \u001b[36m0:00:00\u001b[0m\n",
            "\u001b[?25hInstalling collected packages: backtrader\n",
            "Successfully installed backtrader-1.9.78.123\n"
          ]
        }
      ],
      "source": [
        "%matplotlib notebook\n",
        "import numpy as np\n",
        "import pandas as pd\n",
        "import yfinance as yf\n",
        "import statsmodels.api as sm\n",
        "from statsmodels.tsa.stattools import adfuller\n",
        "import statsmodels.tsa.stattools as ts\n",
        "import kagglehub\n",
        "from kagglehub import KaggleDatasetAdapter\n",
        "from datetime import datetime\n",
        "!pip install backtrader\n",
        "import backtrader as bt"
      ]
    },
    {
      "cell_type": "code",
      "execution_count": 2,
      "metadata": {
        "colab": {
          "base_uri": "https://localhost:8080/"
        },
        "id": "no5WZCBQw1YC",
        "outputId": "05e10fc1-3e40-455f-9460-ab33c9f99546"
      },
      "outputs": [
        {
          "output_type": "stream",
          "name": "stderr",
          "text": [
            "<ipython-input-2-4075881d4437>:3: DeprecationWarning: load_dataset is deprecated and will be removed in future version.\n",
            "  df = kagglehub.load_dataset(\n"
          ]
        },
        {
          "output_type": "stream",
          "name": "stdout",
          "text": [
            "Downloading from https://www.kaggle.com/api/v1/datasets/download/beomseongkim/nasdaq-stock-ticker-latest-data-2025?dataset_version_number=1&file_name=Nasdaq_Ticker.csv...\n"
          ]
        },
        {
          "output_type": "stream",
          "name": "stderr",
          "text": [
            "100%|██████████| 931k/931k [00:00<00:00, 2.87MB/s]\n",
            "<ipython-input-2-4075881d4437>:11: FutureWarning: DataFrame.applymap has been deprecated. Use DataFrame.map instead.\n",
            "  df_split = df_split.applymap(lambda x: x.strip().replace('\"', '') if isinstance(x, str) else x)\n"
          ]
        }
      ],
      "source": [
        "file_path = \"Nasdaq_Ticker.csv\"\n",
        "\n",
        "df = kagglehub.load_dataset(\n",
        "  KaggleDatasetAdapter.PANDAS,\n",
        "  \"beomseongkim/nasdaq-stock-ticker-latest-data-2025\",\n",
        "  file_path,\n",
        ")\n",
        "\n",
        "df_split = df['Name;\"Symbol\";\"Sector\";\"Market Cap\";\"Country\";\"Industry\";\"date\"'].str.split(';', expand=True)\n",
        "\n",
        "df_split = df_split.applymap(lambda x: x.strip().replace('\"', '') if isinstance(x, str) else x)\n",
        "\n",
        "df1 = df_split.sample(frac = 0.1)\n",
        "df2 = df_split.sample(frac = 0.1)\n"
      ]
    },
    {
      "cell_type": "code",
      "execution_count": null,
      "metadata": {
        "colab": {
          "base_uri": "https://localhost:8080/"
        },
        "id": "MxkBjhV-4Mjm",
        "outputId": "cd4df913-3b81-4e50-b0be-9782adf72b49"
      },
      "outputs": [
        {
          "metadata": {
            "tags": null
          },
          "name": "stdout",
          "output_type": "stream",
          "text": [
            "VALID: EAD FELE\n",
            "VALID: EAD SWKHL\n",
            "VALID: EAD AMRX\n",
            "VALID: EAD BCRX\n",
            "VALID: EAD WU\n"
          ]
        },
        {
          "metadata": {
            "tags": null
          },
          "name": "stderr",
          "output_type": "stream",
          "text": [
            "ERROR:yfinance:$SF^D: possibly delisted; no price data found  (period=1y) (Yahoo error = \"No data found, symbol may be delisted\")\n"
          ]
        },
        {
          "metadata": {
            "tags": null
          },
          "name": "stdout",
          "output_type": "stream",
          "text": [
            "VALID: EAD OCTO\n"
          ]
        },
        {
          "metadata": {
            "tags": null
          },
          "name": "stderr",
          "output_type": "stream",
          "text": [
            "ERROR:yfinance:$GNL^B: possibly delisted; no price data found  (period=1y) (Yahoo error = \"No data found, symbol may be delisted\")\n"
          ]
        },
        {
          "metadata": {
            "tags": null
          },
          "name": "stdout",
          "output_type": "stream",
          "text": [
            "VALID: EAD AZZ\n",
            "VALID: EAD KORE\n",
            "VALID: EAD MNYWW\n"
          ]
        },
        {
          "metadata": {
            "tags": null
          },
          "name": "stderr",
          "output_type": "stream",
          "text": [
            "ERROR:yfinance:$GPMT^A: possibly delisted; no price data found  (period=1y) (Yahoo error = \"No data found, symbol may be delisted\")\n"
          ]
        },
        {
          "metadata": {
            "tags": null
          },
          "name": "stdout",
          "output_type": "stream",
          "text": [
            "VALID: EAD RDI\n",
            "VALID: EAD MLGO\n",
            "VALID: EAD SU\n",
            "VALID: EAD HFRO\n",
            "VALID: EAD LNN\n",
            "VALID: EAD VLYPN\n",
            "VALID: EAD BKH\n",
            "VALID: EAD CNFR\n",
            "VALID: EAD GL\n",
            "VALID: EAD RDWR\n",
            "VALID: EAD MCRB\n",
            "VALID: EAD STNE\n",
            "VALID: EAD AVT\n",
            "VALID: EAD DXF\n",
            "VALID: EAD EARN\n"
          ]
        },
        {
          "metadata": {
            "tags": null
          },
          "name": "stderr",
          "output_type": "stream",
          "text": [
            "ERROR:yfinance:$MITT^A: possibly delisted; no price data found  (period=1y) (Yahoo error = \"No data found, symbol may be delisted\")\n"
          ]
        },
        {
          "metadata": {
            "tags": null
          },
          "name": "stdout",
          "output_type": "stream",
          "text": [
            "VALID: EAD DRMA\n",
            "VALID: EAD SKYT\n",
            "VALID: EAD GRWG\n",
            "VALID: EAD OWLT\n",
            "VALID: EAD EEX\n"
          ]
        },
        {
          "metadata": {
            "tags": null
          },
          "name": "stderr",
          "output_type": "stream",
          "text": [
            "ERROR:yfinance:$AMH^G: possibly delisted; no price data found  (period=1y) (Yahoo error = \"No data found, symbol may be delisted\")\n"
          ]
        },
        {
          "metadata": {
            "tags": null
          },
          "name": "stdout",
          "output_type": "stream",
          "text": [
            "VALID: EAD CLAR\n"
          ]
        },
        {
          "metadata": {
            "tags": null
          },
          "name": "stderr",
          "output_type": "stream",
          "text": [
            "ERROR:yfinance:$PSA^J: possibly delisted; no price data found  (period=1y) (Yahoo error = \"No data found, symbol may be delisted\")\n",
            "ERROR:yfinance:$GTLS^B: possibly delisted; no price data found  (period=1y) (Yahoo error = \"No data found, symbol may be delisted\")\n"
          ]
        },
        {
          "metadata": {
            "tags": null
          },
          "name": "stdout",
          "output_type": "stream",
          "text": [
            "VALID: EAD NOA\n"
          ]
        },
        {
          "metadata": {
            "tags": null
          },
          "name": "stderr",
          "output_type": "stream",
          "text": [
            "ERROR:yfinance:$CODI^C: possibly delisted; no price data found  (period=1y) (Yahoo error = \"No data found, symbol may be delisted\")\n"
          ]
        },
        {
          "metadata": {
            "tags": null
          },
          "name": "stdout",
          "output_type": "stream",
          "text": [
            "VALID: EAD SOBR\n",
            "VALID: EAD PSMT\n",
            "VALID: EAD WFCF\n",
            "VALID: EAD XYLO\n",
            "VALID: EAD CLIK\n",
            "VALID: EAD LVRO\n",
            "VALID: EAD NVRO\n",
            "VALID: EAD CLSD\n",
            "VALID: EAD BGM\n",
            "VALID: EAD DWSN\n"
          ]
        },
        {
          "metadata": {
            "tags": null
          },
          "name": "stderr",
          "output_type": "stream",
          "text": [
            "ERROR:yfinance:$MS^A: possibly delisted; no price data found  (period=1y) (Yahoo error = \"No data found, symbol may be delisted\")\n"
          ]
        },
        {
          "metadata": {
            "tags": null
          },
          "name": "stdout",
          "output_type": "stream",
          "text": [
            "VALID: EAD VTS\n"
          ]
        },
        {
          "metadata": {
            "tags": null
          },
          "name": "stderr",
          "output_type": "stream",
          "text": [
            "ERROR:yfinance:$PRIF^K: possibly delisted; no price data found  (period=1y) (Yahoo error = \"No data found, symbol may be delisted\")\n",
            "ERROR:yfinance:$GLOP^C: possibly delisted; no price data found  (period=1y) (Yahoo error = \"No data found, symbol may be delisted\")\n"
          ]
        },
        {
          "metadata": {
            "tags": null
          },
          "name": "stdout",
          "output_type": "stream",
          "text": [
            "VALID: EAD CPOP\n",
            "VALID: EAD STRRP\n",
            "VALID: EAD AFMD\n",
            "VALID: EAD MXE\n",
            "VALID: EAD AXL\n",
            "VALID: EAD EVG\n",
            "VALID: EAD VEEE\n",
            "VALID: EAD SGA\n",
            "VALID: EAD ATXI\n",
            "VALID: EAD MNSB\n",
            "VALID: EAD NUWE\n",
            "VALID: EAD MX\n",
            "VALID: EAD IRON\n",
            "VALID: EAD CPHC\n",
            "VALID: EAD NVEC\n",
            "VALID: EAD BOLD\n",
            "VALID: EAD GWAV\n",
            "VALID: EAD TR\n",
            "VALID: EAD BOTJ\n",
            "VALID: EAD WTFCM\n"
          ]
        },
        {
          "metadata": {
            "tags": null
          },
          "name": "stderr",
          "output_type": "stream",
          "text": [
            "ERROR:yfinance:$AGM^F: possibly delisted; no price data found  (period=1y) (Yahoo error = \"No data found, symbol may be delisted\")\n"
          ]
        },
        {
          "metadata": {
            "tags": null
          },
          "name": "stdout",
          "output_type": "stream",
          "text": [
            "VALID: EAD SILV\n",
            "VALID: EAD STM\n",
            "VALID: EAD CHGG\n",
            "VALID: EAD RGLD\n"
          ]
        },
        {
          "metadata": {
            "tags": null
          },
          "name": "stderr",
          "output_type": "stream",
          "text": [
            "ERROR:yfinance:$ATH^A: possibly delisted; no price data found  (period=1y) (Yahoo error = \"No data found, symbol may be delisted\")\n"
          ]
        },
        {
          "metadata": {
            "tags": null
          },
          "name": "stdout",
          "output_type": "stream",
          "text": [
            "VALID: EAD UNP\n"
          ]
        },
        {
          "metadata": {
            "tags": null
          },
          "name": "stderr",
          "output_type": "stream",
          "text": [
            "ERROR:yfinance:$PCG^H: possibly delisted; no price data found  (period=1y) (Yahoo error = \"No data found, symbol may be delisted\")\n"
          ]
        },
        {
          "metadata": {
            "tags": null
          },
          "name": "stdout",
          "output_type": "stream",
          "text": [
            "VALID: EAD PMO\n"
          ]
        },
        {
          "metadata": {
            "tags": null
          },
          "name": "stderr",
          "output_type": "stream",
          "text": [
            "ERROR:yfinance:$NEE^N: possibly delisted; no price data found  (period=1y) (Yahoo error = \"No data found, symbol may be delisted\")\n"
          ]
        },
        {
          "metadata": {
            "tags": null
          },
          "name": "stdout",
          "output_type": "stream",
          "text": [
            "VALID: EAD UDR\n",
            "VALID: EAD PPT\n",
            "VALID: EAD MBRX\n"
          ]
        },
        {
          "metadata": {
            "tags": null
          },
          "name": "stderr",
          "output_type": "stream",
          "text": [
            "ERROR:yfinance:$SPNT^B: possibly delisted; no price data found  (period=1y) (Yahoo error = \"No data found, symbol may be delisted\")\n"
          ]
        },
        {
          "metadata": {
            "tags": null
          },
          "name": "stdout",
          "output_type": "stream",
          "text": [
            "VALID: EAD BAER\n",
            "VALID: EAD BLUE\n",
            "VALID: EAD RELX\n",
            "VALID: EAD SMMT\n",
            "VALID: EAD DIST\n",
            "VALID: EAD ULY\n",
            "VALID: EAD STAF\n",
            "VALID: EAD TRT\n",
            "VALID: EAD SPMA\n",
            "VALID: EAD SLE\n",
            "VALID: EAD NYXH\n",
            "VALID: EAD SNDL\n",
            "VALID: EAD LTRN\n",
            "VALID: EAD BLDP\n"
          ]
        },
        {
          "metadata": {
            "tags": null
          },
          "name": "stderr",
          "output_type": "stream",
          "text": [
            "ERROR:yfinance:$NLY^G: possibly delisted; no price data found  (period=1y) (Yahoo error = \"No data found, symbol may be delisted\")\n"
          ]
        },
        {
          "metadata": {
            "tags": null
          },
          "name": "stdout",
          "output_type": "stream",
          "text": [
            "VALID: EAD SXT\n",
            "VALID: EAD MITQ\n",
            "VALID: EAD MYFW\n",
            "VALID: EAD MI\n",
            "VALID: EAD STKS\n",
            "VALID: EAD ASO\n"
          ]
        },
        {
          "metadata": {
            "tags": null
          },
          "name": "stderr",
          "output_type": "stream",
          "text": [
            "ERROR:yfinance:$DLNG^B: possibly delisted; no price data found  (period=1y) (Yahoo error = \"No data found, symbol may be delisted\")\n",
            "ERROR:yfinance:$DLR^L: possibly delisted; no price data found  (period=1y) (Yahoo error = \"No data found, symbol may be delisted\")\n"
          ]
        },
        {
          "metadata": {
            "tags": null
          },
          "name": "stdout",
          "output_type": "stream",
          "text": [
            "VALID: EAD NJR\n",
            "VALID: EAD DELL\n",
            "VALID: EAD BRC\n"
          ]
        },
        {
          "metadata": {
            "tags": null
          },
          "name": "stderr",
          "output_type": "stream",
          "text": [
            "ERROR:yfinance:$PRIF^F: possibly delisted; no price data found  (period=1y) (Yahoo error = \"No data found, symbol may be delisted\")\n"
          ]
        },
        {
          "metadata": {
            "tags": null
          },
          "name": "stdout",
          "output_type": "stream",
          "text": [
            "VALID: EAD TCBIO\n",
            "VALID: EAD ADGM\n",
            "VALID: EAD LUCY\n",
            "VALID: EAD RXRX\n",
            "VALID: EAD APLS\n",
            "VALID: EAD FNGR\n"
          ]
        },
        {
          "metadata": {
            "tags": null
          },
          "name": "stderr",
          "output_type": "stream",
          "text": [
            "ERROR:yfinance:$HFRO^A: possibly delisted; no price data found  (period=1y) (Yahoo error = \"No data found, symbol may be delisted\")\n"
          ]
        },
        {
          "metadata": {
            "tags": null
          },
          "name": "stdout",
          "output_type": "stream",
          "text": [
            "VALID: EAD INHD\n",
            "VALID: EAD COOP\n"
          ]
        },
        {
          "metadata": {
            "tags": null
          },
          "name": "stderr",
          "output_type": "stream",
          "text": [
            "ERROR:yfinance:$CMS^C: possibly delisted; no price data found  (period=1y) (Yahoo error = \"No data found, symbol may be delisted\")\n"
          ]
        },
        {
          "metadata": {
            "tags": null
          },
          "name": "stdout",
          "output_type": "stream",
          "text": [
            "VALID: EAD QRTEB\n",
            "VALID: EAD NATR\n"
          ]
        },
        {
          "metadata": {
            "tags": null
          },
          "name": "stderr",
          "output_type": "stream",
          "text": [
            "ERROR:yfinance:$SYF^B: possibly delisted; no price data found  (period=1y) (Yahoo error = \"No data found, symbol may be delisted\")\n"
          ]
        },
        {
          "metadata": {
            "tags": null
          },
          "name": "stdout",
          "output_type": "stream",
          "text": [
            "VALID: EAD VCIG\n",
            "VALID: EAD ORIC\n",
            "VALID: EAD SYY\n",
            "VALID: EAD IVR\n"
          ]
        },
        {
          "metadata": {
            "tags": null
          },
          "name": "stderr",
          "output_type": "stream",
          "text": [
            "ERROR:yfinance:$PSA^I: possibly delisted; no price data found  (period=1y) (Yahoo error = \"No data found, symbol may be delisted\")\n"
          ]
        },
        {
          "metadata": {
            "tags": null
          },
          "name": "stdout",
          "output_type": "stream",
          "text": [
            "VALID: EAD ABAT\n",
            "VALID: EAD ONIT\n",
            "VALID: EAD DQ\n",
            "VALID: EAD SPGI\n",
            "VALID: EAD CPHI\n"
          ]
        },
        {
          "metadata": {
            "tags": null
          },
          "name": "stderr",
          "output_type": "stream",
          "text": [
            "ERROR:yfinance:$PMT^A: possibly delisted; no price data found  (period=1y) (Yahoo error = \"No data found, symbol may be delisted\")\n"
          ]
        },
        {
          "metadata": {
            "tags": null
          },
          "name": "stdout",
          "output_type": "stream",
          "text": [
            "VALID: EAD HUHU\n",
            "VALID: EAD KXIN\n",
            "VALID: EAD CELU\n",
            "VALID: EAD MXF\n",
            "VALID: EAD ARDC\n",
            "VALID: EAD RCEL\n"
          ]
        },
        {
          "metadata": {
            "tags": null
          },
          "name": "stderr",
          "output_type": "stream",
          "text": [
            "ERROR:yfinance:$COF^K: possibly delisted; no price data found  (period=1y) (Yahoo error = \"No data found, symbol may be delisted\")\n",
            "ERROR:yfinance:$ETX           : possibly delisted; no price data found  (period=1y) (Yahoo error = \"No data found, symbol may be delisted\")\n"
          ]
        },
        {
          "metadata": {
            "tags": null
          },
          "name": "stdout",
          "output_type": "stream",
          "text": [
            "VALID: EAD DLY\n",
            "VALID: EAD NEWP\n",
            "VALID: EAD MDWD\n"
          ]
        },
        {
          "metadata": {
            "tags": null
          },
          "name": "stderr",
          "output_type": "stream",
          "text": [
            "ERROR:yfinance:$MS^K: possibly delisted; no price data found  (period=1y) (Yahoo error = \"No data found, symbol may be delisted\")\n",
            "ERROR:yfinance:$ALL^B: possibly delisted; no price data found  (period=1y) (Yahoo error = \"No data found, symbol may be delisted\")\n"
          ]
        },
        {
          "metadata": {
            "tags": null
          },
          "name": "stdout",
          "output_type": "stream",
          "text": [
            "VALID: EAD MOGU\n"
          ]
        },
        {
          "metadata": {
            "tags": null
          },
          "name": "stderr",
          "output_type": "stream",
          "text": [
            "ERROR:yfinance:$EAD: possibly delisted; no price data found  (period=1y)\n",
            "ERROR:yfinance:$EAD: possibly delisted; no price data found  (period=1y)\n",
            "ERROR:yfinance:$EAD: possibly delisted; no price data found  (period=1y)\n",
            "ERROR:yfinance:$EAD: possibly delisted; no price data found  (period=1y)\n",
            "ERROR:yfinance:Failed to get ticker 'PFX' reason: HTTPSConnectionPool(host='www.yahoo.com', port=443): Read timed out. (read timeout=30)\n",
            "ERROR:yfinance:Failed to get ticker 'PFX' reason: HTTPSConnectionPool(host='query2.finance.yahoo.com', port=443): Read timed out. (read timeout=10)\n",
            "ERROR:yfinance:Failed to get ticker 'PFX' reason: HTTPSConnectionPool(host='query2.finance.yahoo.com', port=443): Read timed out. (read timeout=10)\n",
            "ERROR:yfinance:Failed to get ticker 'DRI' reason: HTTPSConnectionPool(host='www.yahoo.com', port=443): Read timed out. (read timeout=30)\n",
            "ERROR:yfinance:Failed to get ticker 'DRI' reason: HTTPSConnectionPool(host='query1.finance.yahoo.com', port=443): Read timed out. (read timeout=10)\n"
          ]
        }
      ],
      "source": [
        "valid = []\n",
        "def getCoinage(ticker, ticker2):\n",
        "    to_remove = []\n",
        "\n",
        "    for i in ticker:\n",
        "        for j in ticker2:\n",
        "            try:\n",
        "                if i == j:\n",
        "                    continue  # Skip if tickers are the same\n",
        "                data_1 = yf.Ticker(i).history(period=\"1y\")[\"Close\"]\n",
        "                data_2 = yf.Ticker(j).history(period=\"1y\")[\"Close\"]\n",
        "\n",
        "                # Align data on shared dates\n",
        "                shared_index = data_1.index.intersection(data_2.index)\n",
        "                data_1 = data_1.loc[shared_index]\n",
        "                data_2 = data_2.loc[shared_index]\n",
        "\n",
        "                # Check if either dataset is constant\n",
        "                if data_1.min() == data_1.max() or data_2.min() == data_2.max():\n",
        "                    continue  # Skip to the next iteration\n",
        "\n",
        "                data_1 = sm.add_constant(data_1)  # Add constant after alignment\n",
        "\n",
        "                ols_result = sm.OLS(data_2, data_1).fit()\n",
        "\n",
        "                # Check if residuals are constant\n",
        "                if ols_result.resid.min() == ols_result.resid.max():\n",
        "                    continue\n",
        "\n",
        "                adfullerResult = ts.adfuller(ols_result.resid)\n",
        "                if adfullerResult[1] < 0.05:\n",
        "                    valid.append((i, j))\n",
        "                    print(\"VALID:\", i, j)\n",
        "\n",
        "            except Exception as e:\n",
        "                continue\n",
        "                to_remove.append(j)  # Add to removal list\n",
        "\n",
        "    # Remove tickers after the loop\n",
        "    ticker2 = [j for j in ticker2 if j not in to_remove]\n",
        "    print(\"Updated ticker2:\", ticker2)\n",
        "\n",
        "# Example usage:\n",
        "getCoinage(df1[1].tolist(), df2[1].tolist())  # Convert Series to list before passing\n",
        "print(\"Valid pairs:\", valid)"
      ]
    },
    {
      "cell_type": "code",
      "execution_count": null,
      "metadata": {
        "id": "0_7zz7_zxSDl"
      },
      "outputs": [],
      "source": [
        "with open('your_file.txt', 'w') as f:\n",
        "    for valids in valid:\n",
        "        f.write(f\"{valids}\\n\")"
      ]
    },
    {
      "cell_type": "code",
      "source": [
        "valid = []\n",
        "\n",
        "with open(\"your_file.txt\", \"r\") as file:\n",
        "    for line in file:\n",
        "        valid.append((line.strip()))\n"
      ],
      "metadata": {
        "id": "aSy33MPS5shT"
      },
      "execution_count": null,
      "outputs": []
    },
    {
      "cell_type": "code",
      "source": [
        "import statsmodels.api as sm\n",
        "import numpy as np\n",
        "\n",
        "class PairsTradingStrategy(bt.Strategy):\n",
        "    params = dict(lookback=50, entry_threshold=1.5, exit_threshold=0.5)\n",
        "\n",
        "    def __init__(self):\n",
        "        self.stock_A = self.datas[0]\n",
        "        self.stock_B = self.datas[1]\n",
        "        self.hedge_ratio = None\n",
        "        self.spread = []\n",
        "\n",
        "    def next(self):\n",
        "        if len(self.stock_A) < self.params.lookback:\n",
        "            return\n",
        "\n",
        "        # Compute hedge ratio using OLS regression\n",
        "        X = np.array(self.stock_B.get(size=self.params.lookback))\n",
        "        Y = np.array(self.stock_A.get(size=self.params.lookback))\n",
        "        X = sm.add_constant(X)  # Add intercept\n",
        "        model = sm.OLS(Y, X).fit()\n",
        "        self.hedge_ratio = model.params[1]  # Beta coefficient\n",
        "\n",
        "        # Compute spread\n",
        "        spread = self.stock_A.close[0] - self.hedge_ratio * self.stock_B.close[0]\n",
        "        self.spread.append(spread)\n",
        "\n",
        "        # Compute Mean & Standard Deviation of spread\n",
        "        spread_mean = np.mean(self.spread[-self.params.lookback:])\n",
        "        spread_std = np.std(self.spread[-self.params.lookback:])\n",
        "        if np.isnan(spread_std) or spread_std == 0:\n",
        "            z_score = 0  # Default to 0 if spread_std is invalid\n",
        "        else:\n",
        "            z_score = (spread - spread_mean) / spread_std\n",
        "\n",
        "        # **Trading Logic**\n",
        "        if not self.position:\n",
        "            if z_score > self.params.entry_threshold:  # Spread is high → Short A, Long B\n",
        "                self.sell(data=self.stock_A, size=100)\n",
        "                self.buy(data=self.stock_B, size=100)\n",
        "                print(f\"ENTER SHORT Stock A at {self.stock_A.close[0]}, Long Stock B at {self.stock_B.close[0]}\")\n",
        "\n",
        "            elif z_score < -self.params.entry_threshold:  # Spread is low → Long A, Short B\n",
        "                self.buy(data=self.stock_A, size=100)\n",
        "                self.sell(data=self.stock_B, size=100)\n",
        "                print(f\"ENTER LONG Stock A at {self.stock_A.close[0]}, Short Stock B at {self.stock_B.close[0]}\")\n",
        "\n",
        "        else:  # If already in a position, exit when spread reverts\n",
        "            if abs(z_score) < self.params.exit_threshold:\n",
        "                self.close(data=self.stock_A)\n",
        "                self.close(data=self.stock_B)\n",
        "                print(f\"EXIT TRADE at {self.stock_A.close[0]} and {self.stock_B.close[0]}\")\n",
        "\n"
      ],
      "metadata": {
        "id": "5zVD-Sw2Ayw3"
      },
      "execution_count": null,
      "outputs": []
    },
    {
      "cell_type": "code",
      "source": [
        "cerebro = bt.Cerebro()\n",
        "cerebro.addstrategy(PairsTradingStrategy)\n",
        "\n",
        "df1 = yf.download('AMD', start='2020-01-01', end='2025-01-01',multi_level_index=False)\n",
        "df2 = yf.download('INTC', start='2020-01-01', end='2025-01-01',multi_level_index=False)\n",
        "\n",
        "data1 = bt.feeds.PandasData(dataname=df1)\n",
        "data2 = bt.feeds.PandasData(dataname=df2)\n",
        "\n",
        "cerebro.adddata(data1)\n",
        "cerebro.adddata(data2)\n",
        "moneyStart = 10000\n",
        "cerebro.broker.set_cash(moneyStart)"
      ],
      "metadata": {
        "id": "p6nD-q3FA29E"
      },
      "execution_count": null,
      "outputs": []
    },
    {
      "cell_type": "code",
      "source": [
        "print(f\"Starting Portfolio Value: {moneyStart:.2f}\")\n",
        "\n",
        "cerebro.run()\n",
        "\n",
        "final = cerebro.broker.getvalue()\n",
        "print(f\"Final Portfolio Value: {final:.2f}\")\n",
        "\n",
        "fig = cerebro.plot(iplot=False)[0][0]\n",
        "fig.set_size_inches(12, 6)\n",
        "plt.show()\n",
        "\n",
        "growth = (final / moneyStart) - 1\n",
        "print(f\"Total Growth: {growth:.2%}\")\n"
      ],
      "metadata": {
        "id": "Z21YL6hAC_F4"
      },
      "execution_count": null,
      "outputs": []
    },
    {
      "cell_type": "code",
      "source": [],
      "metadata": {
        "colab": {
          "base_uri": "https://localhost:8080/",
          "height": 108
        },
        "id": "mJ4AsVWR5j4o",
        "outputId": "9dbb3124-e29a-458d-9774-0a6c4a94189a"
      },
      "execution_count": 1,
      "outputs": [
        {
          "output_type": "error",
          "ename": "SyntaxError",
          "evalue": "invalid syntax (<ipython-input-1-e331bd9729a8>, line 1)",
          "traceback": [
            "\u001b[0;36m  File \u001b[0;32m\"<ipython-input-1-e331bd9729a8>\"\u001b[0;36m, line \u001b[0;32m1\u001b[0m\n\u001b[0;31m    echo \"# trading_algo2\" >> README.md\u001b[0m\n\u001b[0m         ^\u001b[0m\n\u001b[0;31mSyntaxError\u001b[0m\u001b[0;31m:\u001b[0m invalid syntax\n"
          ]
        }
      ]
    }
  ],
  "metadata": {
    "colab": {
      "provenance": [],
      "authorship_tag": "ABX9TyOBcP2+Ixos6jgB8MFe3sHD",
      "include_colab_link": true
    },
    "kernelspec": {
      "display_name": "Python 3",
      "name": "python3"
    },
    "language_info": {
      "name": "python"
    }
  },
  "nbformat": 4,
  "nbformat_minor": 0
}